{
  "nbformat": 4,
  "nbformat_minor": 0,
  "metadata": {
    "colab": {
      "provenance": [],
      "authorship_tag": "ABX9TyPQiuIiTIczW9aorG+uiilg",
      "include_colab_link": true
    },
    "kernelspec": {
      "name": "python3",
      "display_name": "Python 3"
    },
    "language_info": {
      "name": "python"
    }
  },
  "cells": [
    {
      "cell_type": "markdown",
      "metadata": {
        "id": "view-in-github",
        "colab_type": "text"
      },
      "source": [
        "<a href=\"https://colab.research.google.com/github/PolChip/2course_python/blob/main/predlab.ipynb\" target=\"_parent\"><img src=\"https://colab.research.google.com/assets/colab-badge.svg\" alt=\"Open In Colab\"/></a>"
      ]
    },
    {
      "cell_type": "code",
      "execution_count": null,
      "metadata": {
        "colab": {
          "base_uri": "https://localhost:8080/"
        },
        "id": "p-Mt2TP3n6iN",
        "outputId": "50449bd0-713e-4014-9e4d-b58db3702ec2"
      },
      "outputs": [
        {
          "output_type": "stream",
          "name": "stdout",
          "text": [
            "Введите ваше имя: полина\n",
            "Введите ваш год рождения: 2007\n",
            "Привет, полина! В этом году тебе исполняется 18 лет.\n"
          ]
        }
      ],
      "source": [
        "# 1 Напишите программу, которая запрашивает у пользователя его имя и год рождения.\n",
        "# Затем программа вычисляет возраст пользователя (предполагая, что текущий год 2025) и\n",
        "# выводит приветственное сообщение: \"Привет, [Имя]! В этом году тебе исполняется [Возраст] лет.\"\n",
        "\n",
        "name = input(\"Введите ваше имя: \")\n",
        "birth_year = int(input(\"Введите ваш год рождения: \"))\n",
        "year = 2025\n",
        "age = year - birth_year\n",
        "print(f\"Привет, {name}! В этом году тебе исполняется {age} лет.\")"
      ]
    },
    {
      "cell_type": "code",
      "source": [
        "# 2 Пользователь вводит число. Определите, является ли это число кратным 5 и 10 одновременно.\n",
        "# Выведите соответствующее сообщение: \"Число кратно и 5, и 10\", \"Число не кратно одновременно 5 и 10\".\n",
        "number=int(input('Введите число: '))\n",
        "if number%5==0 and number%10==0:\n",
        "  print(\"Число кратно и 5, и 10\")\n",
        "else:\n",
        "  print(\"Число не кратно одновременно 5 и 10\")\n",
        "\n",
        "\n"
      ],
      "metadata": {
        "colab": {
          "base_uri": "https://localhost:8080/"
        },
        "id": "5X8xuLzRoubM",
        "outputId": "93107eef-bb01-4046-bf94-0ab40bca6777"
      },
      "execution_count": null,
      "outputs": [
        {
          "output_type": "stream",
          "name": "stdout",
          "text": [
            "Введите число: 10\n",
            "Число кратно и 5, и 10\n"
          ]
        }
      ]
    },
    {
      "cell_type": "code",
      "source": [
        "# 3 Напишите программу, которая запрашивает три целых числа и находит наименьшее среди них.\n",
        "# Не используйте встроенные функции (min, sort). Выведите найденное минимальное число.\n",
        "num1 = int(input(\"Введите первое число: \"))\n",
        "num2 = int(input(\"Введите второе число: \"))\n",
        "num3 = int(input(\"Введите третье число: \"))\n",
        "\n",
        "if num1 <= num2 and num1 <= num3:\n",
        "    min_num = num1\n",
        "elif num2 <= num1 and num2 <= num3:\n",
        "    min_num = num2\n",
        "else:\n",
        "    min_num = num3\n",
        "\n",
        "print(f\"Минимальное число: {min_num}\")\n"
      ],
      "metadata": {
        "colab": {
          "base_uri": "https://localhost:8080/"
        },
        "id": "t06kNAd9qnfH",
        "outputId": "7a7910d7-6388-4d97-82e3-8edbb6df22aa"
      },
      "execution_count": 2,
      "outputs": [
        {
          "output_type": "stream",
          "name": "stdout",
          "text": [
            "Введите первое число: 3\n",
            "Введите второе число: 6\n",
            "Введите третье число: 12\n",
            "Минимальное число: 3\n"
          ]
        }
      ]
    },
    {
      "cell_type": "code",
      "source": [
        "# 4 Пользователь вводит два числа, start и end. Напишите цикл, который выводит все чётные числа в этом диапазоне (включительно).\n",
        "# Если таких чисел нет, выведите \"В этом диапазоне нет чётных чисел.\"\n",
        "start=int(input(\"Введите первое число: \"))\n",
        "end=int(input(\"Введите второе число: \"))\n",
        "chet=[]\n",
        "for i in range(start, end+1):\n",
        "  if i%2==0:\n",
        "    chet.append(i)\n",
        "if chet !=[]:\n",
        "    print(chet)\n",
        "else:\n",
        "  print(\"В этом диапазоне нет чётных чисел.\")\n",
        "\n",
        "\n"
      ],
      "metadata": {
        "colab": {
          "base_uri": "https://localhost:8080/"
        },
        "id": "EbnQo-02rkeb",
        "outputId": "51178c54-cb98-4134-b103-dad6bbb7c795"
      },
      "execution_count": null,
      "outputs": [
        {
          "output_type": "stream",
          "name": "stdout",
          "text": [
            "Введите первое число: 2\n",
            "Введите второе число: 6\n",
            "[2, 4, 6]\n"
          ]
        }
      ]
    },
    {
      "cell_type": "code",
      "source": [
        "# 5 Дан заранее заданный список чисел, например: numbers = [12, -5, 23, 0, 4, 17, -8, 0, 11]. Напишите программу, которая:\n",
        "# Выводит количество элементов в списке.\n",
        "# Выводит последний элемент списка.\n",
        "# Выводит список в обратном порядке.\n",
        "# Выводит \"Да\", если список содержит числа 5 и 17, и \"Нет\" в противном случае.\n",
        "numbers = [12, -5, 23, 0, 4, 17, -8, 0, 11]\n",
        "count=len(numbers)\n",
        "print(f\"Количество элементов в списке: {count}\")\n",
        "last=numbers[-1]\n",
        "print(f\"Количество элементов в списке: {last}\")\n",
        "obrat=numbers[::-1]\n",
        "print(f\"Количество элементов в списке: {obrat}\")\n",
        "c5 = 5 in numbers\n",
        "c17 = 17 in numbers\n",
        "if c5 and c17:\n",
        "  print('Да')\n",
        "else:\n",
        "  print(\"Нет\")"
      ],
      "metadata": {
        "colab": {
          "base_uri": "https://localhost:8080/"
        },
        "id": "V8kirwAlun-r",
        "outputId": "98d07e21-0d26-4c19-e6e8-1556e813d822"
      },
      "execution_count": null,
      "outputs": [
        {
          "output_type": "stream",
          "name": "stdout",
          "text": [
            "Количество элементов в списке: 9\n",
            "Количество элементов в списке: 11\n",
            "Количество элементов в списке: [11, 0, -8, 17, 4, 0, 23, -5, 12]\n",
            "Нет\n"
          ]
        }
      ]
    },
    {
      "cell_type": "code",
      "source": [
        "# 6 Создайте словарь student с ключами: \"name\", \"age\", \"course\", \"grades\" (оценки - это список, например [4, 5, 3, 5, 4]). Напишите код, который:\n",
        "# Выводит имя и курс студента.\n",
        "# Вычисляет и выводит средний балл студента из списка grades.\n",
        "# Добавляет новую оценку 5 в конец списка оценок.\n",
        "# Выводит обновлённый словарь.\n",
        "student = {\n",
        "    \"name\": \"Иван\",\n",
        "    \"age\": 20,\n",
        "    \"course\": 2,\n",
        "    \"grades\": [4, 5, 3, 5, 4]\n",
        "}\n",
        "\n",
        "print(f\"Имя: {student['name']}\")\n",
        "print(f\"Курс: {student['course']}\")\n",
        "\n",
        "grades_sum = sum(student['grades'])\n",
        "grades_count = len(student['grades'])\n",
        "average_grade = grades_sum / grades_count\n",
        "print(f\"Средний балл: {average_grade:.2f}\")\n",
        "\n",
        "student['grades'].append(5)\n",
        "print(\"Добавлена новая оценка: 5\")\n",
        "\n",
        "print(\"\\nОбновлённый словарь студента:\")\n",
        "for key, value in student.items():\n",
        "    print(f\"{key}: {value}\")"
      ],
      "metadata": {
        "colab": {
          "base_uri": "https://localhost:8080/"
        },
        "id": "mJrjhP3pv3BT",
        "outputId": "a944e0e2-2a0d-4534-851c-1944e61bd1aa"
      },
      "execution_count": null,
      "outputs": [
        {
          "output_type": "stream",
          "name": "stdout",
          "text": [
            "Имя: Иван\n",
            "Курс: 2\n",
            "Средний балл: 4.20\n",
            "Добавлена новая оценка: 5\n",
            "\n",
            "Обновлённый словарь студента:\n",
            "name: Иван\n",
            "age: 20\n",
            "course: 2\n",
            "grades: [4, 5, 3, 5, 4, 5]\n"
          ]
        }
      ]
    },
    {
      "cell_type": "code",
      "source": [
        "# 7 Напишите две функции:\n",
        "# calculate_circle_area(radius): принимает радиус круга и возвращает его площадь (π * R²). Используйте math.pi или значение 3.14159.\n",
        "# is_positive(number): принимает число и возвращает True, если число положительное, и False в противном случае.\n",
        "# В основной программе продемонстрируйте работу обеих функций.\n",
        "import math\n",
        "\n",
        "def calculate_circle_area(radius):\n",
        "    area = math.pi * radius ** 2\n",
        "    return area\n",
        "\n",
        "def is_positive(number):\n",
        "    if number > 0:\n",
        "        return True\n",
        "    else:\n",
        "        return False\n",
        "\n",
        "print(\"\\n1. Функция calculate_circle_area:\")\n",
        "\n",
        "radii = [5, 3.5, 10, 0, -2]\n",
        "for r in radii:\n",
        "    area = calculate_circle_area(r)\n",
        "    print(f\"Радиус: {r} -> Площадь: {area:.2f}\")\n",
        "\n",
        "print(\"\\n2. Функция is_positive:\")\n",
        "\n",
        "numbers = [10, -5, 0, 3.14, -100, 1]\n",
        "for num in numbers:\n",
        "  result = is_positive(num)\n",
        "  print(f\"Число: {num:} -> Положительное: {result}\")"
      ],
      "metadata": {
        "colab": {
          "base_uri": "https://localhost:8080/"
        },
        "id": "S4fuL3tT01t0",
        "outputId": "aec00f66-ae60-4220-896c-46837982d0a1"
      },
      "execution_count": null,
      "outputs": [
        {
          "output_type": "stream",
          "name": "stdout",
          "text": [
            "\n",
            "1. Функция calculate_circle_area:\n",
            "Радиус: 5 -> Площадь: 78.54\n",
            "Радиус: 3.5 -> Площадь: 38.48\n",
            "Радиус: 10 -> Площадь: 314.16\n",
            "Радиус: 0 -> Площадь: 0.00\n",
            "Радиус: -2 -> Площадь: 12.57\n",
            "\n",
            "2. Функция is_positive:\n",
            "Число: 10 -> Положительное: True\n",
            "Число: -5 -> Положительное: False\n",
            "Число: 0 -> Положительное: False\n",
            "Число: 3.14 -> Положительное: True\n",
            "Число: -100 -> Положительное: False\n",
            "Число: 1 -> Положительное: True\n"
          ]
        }
      ]
    },
    {
      "cell_type": "code",
      "source": [
        "# 8 Напишите программу, которая принимает строку и сдвигает каждую букву в ней на 3 позиции вперёд в алфавите.\n",
        "# Считайте, что алфавит зациклен. Регистр букв не менять. Все не-буквенные символы оставить без изменений.\n",
        "# Пример: \"Hello, World!\" -> \"Khoor, Zruog!\"\n",
        "import string\n",
        "\n",
        "alphabet = list(string.ascii_lowercase)*2\n",
        "print(alphabet)\n",
        "word = [i for i in input('Введите ваше предложение: ')]\n",
        "for i in range(len(word)):\n",
        "  if word[i] in alphabet:\n",
        "    word[i] = alphabet[alphabet.index(word[i])+3]\n",
        "  elif word[i].lower() in alphabet:\n",
        "    word[i] = alphabet[alphabet.index(word[i].lower())+3].upper()\n",
        "print(word)"
      ],
      "metadata": {
        "id": "IHKINfiSG_1e",
        "colab": {
          "base_uri": "https://localhost:8080/"
        },
        "outputId": "21d5d44c-bfa2-4362-8c14-6ef9488c5a5c"
      },
      "execution_count": 1,
      "outputs": [
        {
          "output_type": "stream",
          "name": "stdout",
          "text": [
            "['a', 'b', 'c', 'd', 'e', 'f', 'g', 'h', 'i', 'j', 'k', 'l', 'm', 'n', 'o', 'p', 'q', 'r', 's', 't', 'u', 'v', 'w', 'x', 'y', 'z', 'a', 'b', 'c', 'd', 'e', 'f', 'g', 'h', 'i', 'j', 'k', 'l', 'm', 'n', 'o', 'p', 'q', 'r', 's', 't', 'u', 'v', 'w', 'x', 'y', 'z']\n",
            "Введите ваше предложение: Hello, World!\n",
            "['K', 'h', 'o', 'o', 'r', ',', ' ', 'Z', 'r', 'u', 'o', 'g', '!']\n"
          ]
        }
      ]
    },
    {
      "cell_type": "code",
      "source": [
        "# 9 Сгенерируйте список из 15 случайных целых чисел в диапазоне от -10 до 10.\n",
        "# Затем создайте на его основе два новых списка, используя генераторы списков:\n",
        "# Список только из положительных чисел.\n",
        "# Список из квадратов всех чисел исходного списка.\n",
        "# Выведите все три списка.\n",
        "import random\n",
        "\n",
        "original_list = [random.randint(-10, 10) for i in range(15)]\n",
        "print(\"Исходный список:\", original_list)\n",
        "positive_numbers = [num for num in original_list if num > 0]\n",
        "print(\"Положительные числа:\", positive_numbers)\n",
        "kvadrat = [num ** 2 for num in original_list]\n",
        "print(\"Квадраты чисел:\", kvadrat)\n",
        "\n"
      ],
      "metadata": {
        "colab": {
          "base_uri": "https://localhost:8080/"
        },
        "id": "xk8ixeP_Asgm",
        "outputId": "e9539921-4652-41c6-901d-1cafce4e2945"
      },
      "execution_count": null,
      "outputs": [
        {
          "output_type": "stream",
          "name": "stdout",
          "text": [
            "Исходный список: [7, 9, 8, 5, -6, 6, -4, -8, 4, -1, 1, -9, 1, -10, 5]\n",
            "Положительные числа: [7, 9, 8, 5, 6, 4, 1, 1, 5]\n",
            "Квадраты чисел: [49, 81, 64, 25, 36, 36, 16, 64, 16, 1, 1, 81, 1, 100, 25]\n"
          ]
        }
      ]
    },
    {
      "cell_type": "code",
      "source": [
        "# 10 Напишите программу, которая бесконечно запрашивает у пользователя ввод числа, пока не будет введено \"стоп\".\n",
        "# При каждой итерации программа пытается преобразовать ввод в число с плавающей точкой и выводит его.\n",
        "# Если преобразование не удаётся (пользователь ввёл текст, не являющийся числом или словом \"стоп\"),\n",
        "# программа должна вывести сообщение \"Ошибка: введите число или 'стоп'.\" и продолжить работу.\n",
        "while True:\n",
        "    user_input = input(\"Введите число или 'стоп': \")\n",
        "\n",
        "    try:\n",
        "        number = float(user_input)\n",
        "        print(f\"Вы ввели число: {number}\")\n",
        "    except ValueError:\n",
        "        print(\"Ошибка: введите число или 'стоп'.\")\n",
        "\n",
        "    if user_input.lower() == \"стоп\":\n",
        "        print(\"Программа завершена.\")\n",
        "        break\n",
        "\n",
        "\n"
      ],
      "metadata": {
        "colab": {
          "base_uri": "https://localhost:8080/"
        },
        "id": "mT-6WzBKEvMo",
        "outputId": "aea633dc-906b-41bd-9783-30c09e784ce7"
      },
      "execution_count": null,
      "outputs": [
        {
          "output_type": "stream",
          "name": "stdout",
          "text": [
            "Введите число или 'стоп': стОп\n",
            "Ошибка: введите число или 'стоп'.\n",
            "Программа завершена.\n"
          ]
        }
      ]
    }
  ]
}